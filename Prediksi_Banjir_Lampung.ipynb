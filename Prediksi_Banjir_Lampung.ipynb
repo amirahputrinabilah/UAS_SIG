{
  "nbformat": 4,
  "nbformat_minor": 0,
  "metadata": {
    "colab": {
      "provenance": []
    },
    "kernelspec": {
      "name": "python3",
      "display_name": "Python 3"
    },
    "language_info": {
      "name": "python"
    }
  },
  "cells": [
    {
      "cell_type": "code",
      "execution_count": 1,
      "metadata": {
        "id": "3Vfxg5FWE5hH"
      },
      "outputs": [],
      "source": [
        "# 1. Install Library\n",
        "!pip install pandas folium scikit-learn --quiet"
      ]
    },
    {
      "cell_type": "code",
      "source": [
        "# 2. Import Library\n",
        "import pandas as pd\n",
        "import folium\n",
        "from sklearn.ensemble import RandomForestClassifier\n",
        "from sklearn.model_selection import train_test_split\n",
        "from sklearn.metrics import classification_report, confusion_matrix\n",
        "from sklearn.preprocessing import LabelEncoder\n",
        "from geopy.geocoders import Nominatim\n",
        "import time"
      ],
      "metadata": {
        "id": "bQ-Qq5-fFGvd"
      },
      "execution_count": 2,
      "outputs": []
    },
    {
      "cell_type": "code",
      "source": [
        "# 3. Upload Dataset\n",
        "from google.colab import files\n",
        "uploaded = files.upload()"
      ],
      "metadata": {
        "colab": {
          "base_uri": "https://localhost:8080/",
          "height": 212
        },
        "id": "XwDyMrV_FKCW",
        "outputId": "ccb6fe6c-28a1-4f3f-fe24-8c4ea781e15f"
      },
      "execution_count": 3,
      "outputs": [
        {
          "output_type": "display_data",
          "data": {
            "text/plain": [
              "<IPython.core.display.HTML object>"
            ],
            "text/html": [
              "\n",
              "     <input type=\"file\" id=\"files-576692ab-e3c2-4f4b-b4f1-1b6cb8677341\" name=\"files[]\" multiple disabled\n",
              "        style=\"border:none\" />\n",
              "     <output id=\"result-576692ab-e3c2-4f4b-b4f1-1b6cb8677341\">\n",
              "      Upload widget is only available when the cell has been executed in the\n",
              "      current browser session. Please rerun this cell to enable.\n",
              "      </output>\n",
              "      <script>// Copyright 2017 Google LLC\n",
              "//\n",
              "// Licensed under the Apache License, Version 2.0 (the \"License\");\n",
              "// you may not use this file except in compliance with the License.\n",
              "// You may obtain a copy of the License at\n",
              "//\n",
              "//      http://www.apache.org/licenses/LICENSE-2.0\n",
              "//\n",
              "// Unless required by applicable law or agreed to in writing, software\n",
              "// distributed under the License is distributed on an \"AS IS\" BASIS,\n",
              "// WITHOUT WARRANTIES OR CONDITIONS OF ANY KIND, either express or implied.\n",
              "// See the License for the specific language governing permissions and\n",
              "// limitations under the License.\n",
              "\n",
              "/**\n",
              " * @fileoverview Helpers for google.colab Python module.\n",
              " */\n",
              "(function(scope) {\n",
              "function span(text, styleAttributes = {}) {\n",
              "  const element = document.createElement('span');\n",
              "  element.textContent = text;\n",
              "  for (const key of Object.keys(styleAttributes)) {\n",
              "    element.style[key] = styleAttributes[key];\n",
              "  }\n",
              "  return element;\n",
              "}\n",
              "\n",
              "// Max number of bytes which will be uploaded at a time.\n",
              "const MAX_PAYLOAD_SIZE = 100 * 1024;\n",
              "\n",
              "function _uploadFiles(inputId, outputId) {\n",
              "  const steps = uploadFilesStep(inputId, outputId);\n",
              "  const outputElement = document.getElementById(outputId);\n",
              "  // Cache steps on the outputElement to make it available for the next call\n",
              "  // to uploadFilesContinue from Python.\n",
              "  outputElement.steps = steps;\n",
              "\n",
              "  return _uploadFilesContinue(outputId);\n",
              "}\n",
              "\n",
              "// This is roughly an async generator (not supported in the browser yet),\n",
              "// where there are multiple asynchronous steps and the Python side is going\n",
              "// to poll for completion of each step.\n",
              "// This uses a Promise to block the python side on completion of each step,\n",
              "// then passes the result of the previous step as the input to the next step.\n",
              "function _uploadFilesContinue(outputId) {\n",
              "  const outputElement = document.getElementById(outputId);\n",
              "  const steps = outputElement.steps;\n",
              "\n",
              "  const next = steps.next(outputElement.lastPromiseValue);\n",
              "  return Promise.resolve(next.value.promise).then((value) => {\n",
              "    // Cache the last promise value to make it available to the next\n",
              "    // step of the generator.\n",
              "    outputElement.lastPromiseValue = value;\n",
              "    return next.value.response;\n",
              "  });\n",
              "}\n",
              "\n",
              "/**\n",
              " * Generator function which is called between each async step of the upload\n",
              " * process.\n",
              " * @param {string} inputId Element ID of the input file picker element.\n",
              " * @param {string} outputId Element ID of the output display.\n",
              " * @return {!Iterable<!Object>} Iterable of next steps.\n",
              " */\n",
              "function* uploadFilesStep(inputId, outputId) {\n",
              "  const inputElement = document.getElementById(inputId);\n",
              "  inputElement.disabled = false;\n",
              "\n",
              "  const outputElement = document.getElementById(outputId);\n",
              "  outputElement.innerHTML = '';\n",
              "\n",
              "  const pickedPromise = new Promise((resolve) => {\n",
              "    inputElement.addEventListener('change', (e) => {\n",
              "      resolve(e.target.files);\n",
              "    });\n",
              "  });\n",
              "\n",
              "  const cancel = document.createElement('button');\n",
              "  inputElement.parentElement.appendChild(cancel);\n",
              "  cancel.textContent = 'Cancel upload';\n",
              "  const cancelPromise = new Promise((resolve) => {\n",
              "    cancel.onclick = () => {\n",
              "      resolve(null);\n",
              "    };\n",
              "  });\n",
              "\n",
              "  // Wait for the user to pick the files.\n",
              "  const files = yield {\n",
              "    promise: Promise.race([pickedPromise, cancelPromise]),\n",
              "    response: {\n",
              "      action: 'starting',\n",
              "    }\n",
              "  };\n",
              "\n",
              "  cancel.remove();\n",
              "\n",
              "  // Disable the input element since further picks are not allowed.\n",
              "  inputElement.disabled = true;\n",
              "\n",
              "  if (!files) {\n",
              "    return {\n",
              "      response: {\n",
              "        action: 'complete',\n",
              "      }\n",
              "    };\n",
              "  }\n",
              "\n",
              "  for (const file of files) {\n",
              "    const li = document.createElement('li');\n",
              "    li.append(span(file.name, {fontWeight: 'bold'}));\n",
              "    li.append(span(\n",
              "        `(${file.type || 'n/a'}) - ${file.size} bytes, ` +\n",
              "        `last modified: ${\n",
              "            file.lastModifiedDate ? file.lastModifiedDate.toLocaleDateString() :\n",
              "                                    'n/a'} - `));\n",
              "    const percent = span('0% done');\n",
              "    li.appendChild(percent);\n",
              "\n",
              "    outputElement.appendChild(li);\n",
              "\n",
              "    const fileDataPromise = new Promise((resolve) => {\n",
              "      const reader = new FileReader();\n",
              "      reader.onload = (e) => {\n",
              "        resolve(e.target.result);\n",
              "      };\n",
              "      reader.readAsArrayBuffer(file);\n",
              "    });\n",
              "    // Wait for the data to be ready.\n",
              "    let fileData = yield {\n",
              "      promise: fileDataPromise,\n",
              "      response: {\n",
              "        action: 'continue',\n",
              "      }\n",
              "    };\n",
              "\n",
              "    // Use a chunked sending to avoid message size limits. See b/62115660.\n",
              "    let position = 0;\n",
              "    do {\n",
              "      const length = Math.min(fileData.byteLength - position, MAX_PAYLOAD_SIZE);\n",
              "      const chunk = new Uint8Array(fileData, position, length);\n",
              "      position += length;\n",
              "\n",
              "      const base64 = btoa(String.fromCharCode.apply(null, chunk));\n",
              "      yield {\n",
              "        response: {\n",
              "          action: 'append',\n",
              "          file: file.name,\n",
              "          data: base64,\n",
              "        },\n",
              "      };\n",
              "\n",
              "      let percentDone = fileData.byteLength === 0 ?\n",
              "          100 :\n",
              "          Math.round((position / fileData.byteLength) * 100);\n",
              "      percent.textContent = `${percentDone}% done`;\n",
              "\n",
              "    } while (position < fileData.byteLength);\n",
              "  }\n",
              "\n",
              "  // All done.\n",
              "  yield {\n",
              "    response: {\n",
              "      action: 'complete',\n",
              "    }\n",
              "  };\n",
              "}\n",
              "\n",
              "scope.google = scope.google || {};\n",
              "scope.google.colab = scope.google.colab || {};\n",
              "scope.google.colab._files = {\n",
              "  _uploadFiles,\n",
              "  _uploadFilesContinue,\n",
              "};\n",
              "})(self);\n",
              "</script> "
            ]
          },
          "metadata": {}
        },
        {
          "output_type": "stream",
          "name": "stdout",
          "text": [
            "Saving Lampung_curah_hujan.csv to Lampung_curah_hujan.csv\n",
            "Saving Lampung_label_prediksi.csv to Lampung_label_prediksi.csv\n",
            "Saving Lampung_non_spasial.csv to Lampung_non_spasial.csv\n",
            "Saving Lampung_penggunaan_lahan.csv to Lampung_penggunaan_lahan.csv\n",
            "Saving Lampung_riwayat_banjir.csv to Lampung_riwayat_banjir.csv\n"
          ]
        }
      ]
    },
    {
      "cell_type": "code",
      "source": [
        "# 4. Baca Dataset\n",
        "curah = pd.read_csv(\"Lampung_curah_hujan.csv\")\n",
        "lahan = pd.read_csv(\"Lampung_penggunaan_lahan.csv\")\n",
        "bencana = pd.read_csv(\"Lampung_riwayat_banjir.csv\")\n",
        "nonspasial = pd.read_csv(\"Lampung_non_spasial.csv\")\n",
        "label = pd.read_csv(\"Lampung_label_prediksi.csv\")"
      ],
      "metadata": {
        "id": "tZCfXEsgFWPA"
      },
      "execution_count": 4,
      "outputs": []
    },
    {
      "cell_type": "code",
      "source": [
        "# 5. Gabungkan Semua Data\n",
        "df = curah.merge(lahan, on=[\"Kecamatan\", \"Kabupaten/Kota\"], how=\"left\")\n",
        "df = df.merge(bencana, on=[\"Kecamatan\", \"Kabupaten/Kota\"], how=\"left\")\n",
        "df = df.merge(nonspasial, on=[\"Kecamatan\", \"Kabupaten/Kota\"], how=\"left\")\n",
        "df = df.merge(label, on=[\"Kecamatan\", \"Kabupaten/Kota\"], how=\"left\")"
      ],
      "metadata": {
        "id": "kaIcptFzFbt4"
      },
      "execution_count": 5,
      "outputs": []
    },
    {
      "cell_type": "code",
      "source": [
        "# 6. Bersihkan dan Encode Data\n",
        "df.dropna(inplace=True)\n",
        "df[\"Pernah_Banjir\"] = LabelEncoder().fit_transform(df[\"Pernah_Banjir\"].astype(str))"
      ],
      "metadata": {
        "id": "LkoCeJQpFjjJ"
      },
      "execution_count": 6,
      "outputs": []
    },
    {
      "cell_type": "code",
      "source": [
        "# 7. Prediksi dengan Random Forest\n",
        "X = df[[\"Curah_Hujan_2023\", \"Luas_Lahan_Sawah\", \"Luas_Lahan_Permukiman\", \"Pernah_Banjir\", \"Kemiringan_Lereng\", \"Ketinggian\"]]\n",
        "y = df[\"Tingkat_Kerawanan\"]\n",
        "\n",
        "X_train, X_test, y_train, y_test = train_test_split(X, y, test_size=0.3, random_state=42)\n",
        "model = RandomForestClassifier(n_estimators=100, random_state=42)\n",
        "model.fit(X_train, y_train)\n",
        "y_pred = model.predict(X_test)\n",
        "\n",
        "print(\"=== Classification Report ===\")\n",
        "print(classification_report(y_test, y_pred))\n",
        "print(\"=== Confusion Matrix ===\")\n",
        "print(confusion_matrix(y_test, y_pred))\n",
        "\n",
        "# Tambahkan hasil prediksi ke data\n",
        "df[\"Prediksi_Kerawanan\"] = model.predict(X)"
      ],
      "metadata": {
        "colab": {
          "base_uri": "https://localhost:8080/"
        },
        "id": "brweMY71FnVA",
        "outputId": "9972e2aa-223d-4bd7-c16c-6d490bef03c5"
      },
      "execution_count": 7,
      "outputs": [
        {
          "output_type": "stream",
          "name": "stdout",
          "text": [
            "=== Classification Report ===\n",
            "              precision    recall  f1-score   support\n",
            "\n",
            "           0       0.00      0.00      0.00         1\n",
            "           1       0.00      0.00      0.00         0\n",
            "           2       1.00      0.50      0.67         2\n",
            "\n",
            "    accuracy                           0.33         3\n",
            "   macro avg       0.33      0.17      0.22         3\n",
            "weighted avg       0.67      0.33      0.44         3\n",
            "\n",
            "=== Confusion Matrix ===\n",
            "[[0 1 0]\n",
            " [0 0 0]\n",
            " [0 1 1]]\n"
          ]
        },
        {
          "output_type": "stream",
          "name": "stderr",
          "text": [
            "/usr/local/lib/python3.11/dist-packages/sklearn/metrics/_classification.py:1565: UndefinedMetricWarning: Precision is ill-defined and being set to 0.0 in labels with no predicted samples. Use `zero_division` parameter to control this behavior.\n",
            "  _warn_prf(average, modifier, f\"{metric.capitalize()} is\", len(result))\n",
            "/usr/local/lib/python3.11/dist-packages/sklearn/metrics/_classification.py:1565: UndefinedMetricWarning: Recall is ill-defined and being set to 0.0 in labels with no true samples. Use `zero_division` parameter to control this behavior.\n",
            "  _warn_prf(average, modifier, f\"{metric.capitalize()} is\", len(result))\n",
            "/usr/local/lib/python3.11/dist-packages/sklearn/metrics/_classification.py:1565: UndefinedMetricWarning: Precision is ill-defined and being set to 0.0 in labels with no predicted samples. Use `zero_division` parameter to control this behavior.\n",
            "  _warn_prf(average, modifier, f\"{metric.capitalize()} is\", len(result))\n",
            "/usr/local/lib/python3.11/dist-packages/sklearn/metrics/_classification.py:1565: UndefinedMetricWarning: Recall is ill-defined and being set to 0.0 in labels with no true samples. Use `zero_division` parameter to control this behavior.\n",
            "  _warn_prf(average, modifier, f\"{metric.capitalize()} is\", len(result))\n",
            "/usr/local/lib/python3.11/dist-packages/sklearn/metrics/_classification.py:1565: UndefinedMetricWarning: Precision is ill-defined and being set to 0.0 in labels with no predicted samples. Use `zero_division` parameter to control this behavior.\n",
            "  _warn_prf(average, modifier, f\"{metric.capitalize()} is\", len(result))\n",
            "/usr/local/lib/python3.11/dist-packages/sklearn/metrics/_classification.py:1565: UndefinedMetricWarning: Recall is ill-defined and being set to 0.0 in labels with no true samples. Use `zero_division` parameter to control this behavior.\n",
            "  _warn_prf(average, modifier, f\"{metric.capitalize()} is\", len(result))\n"
          ]
        }
      ]
    },
    {
      "cell_type": "code",
      "source": [
        "# 8. Tambahkan Koordinat Kecamatan (Geocoding)\n",
        "geolocator = Nominatim(user_agent=\"lampung_flood_pred\")\n",
        "latitudes, longitudes = [], []\n",
        "\n",
        "for i, row in df.iterrows():\n",
        "    location_name = f\"{row['Kecamatan']}, {row['Kabupaten/Kota']}, Lampung, Indonesia\"\n",
        "    try:\n",
        "        location = geolocator.geocode(location_name)\n",
        "        if location:\n",
        "            latitudes.append(location.latitude)\n",
        "            longitudes.append(location.longitude)\n",
        "        else:\n",
        "            latitudes.append(None)\n",
        "            longitudes.append(None)\n",
        "    except:\n",
        "        latitudes.append(None)\n",
        "        longitudes.append(None)\n",
        "    time.sleep(1)  # Hindari rate limit\n",
        "\n",
        "df[\"Latitude\"] = latitudes\n",
        "df[\"Longitude\"] = longitudes"
      ],
      "metadata": {
        "id": "kgZB1HlUFrLs"
      },
      "execution_count": 8,
      "outputs": []
    },
    {
      "cell_type": "code",
      "source": [
        "# 9. Buat Peta Interaktif yang Lebih Menarik\n",
        "m = folium.Map(location=[-5.2, 105.3], zoom_start=8, tiles=\"CartoDB positron\")\n",
        "\n",
        "def get_color(risk):\n",
        "    return {\n",
        "        0: \"green\",\n",
        "        1: \"orange\",\n",
        "        2: \"red\"\n",
        "    }.get(risk, \"gray\")\n",
        "\n",
        "for _, row in df.dropna(subset=[\"Latitude\", \"Longitude\"]).iterrows():\n",
        "    popup_html = f\"\"\"\n",
        "    <b>Kecamatan:</b> {row['Kecamatan']}<br>\n",
        "    <b>Kabupaten/Kota:</b> {row['Kabupaten/Kota']}<br>\n",
        "    <b>Curah Hujan:</b> {row['Curah_Hujan_2023']} mm<br>\n",
        "    <b>Kerawanan:</b> {row['Prediksi_Kerawanan']}\n",
        "    \"\"\"\n",
        "    folium.CircleMarker(\n",
        "        location=[row[\"Latitude\"], row[\"Longitude\"]],\n",
        "        radius=10,\n",
        "        popup=folium.Popup(popup_html, max_width=300),\n",
        "        color=get_color(row[\"Prediksi_Kerawanan\"]),\n",
        "        fill=True,\n",
        "        fill_color=get_color(row[\"Prediksi_Kerawanan\"]),\n",
        "        fill_opacity=0.8\n",
        "    ).add_to(m)\n",
        "\n",
        "# Tambahkan legenda manual\n",
        "legend_html = '''\n",
        "<div style=\"position: fixed;\n",
        "     bottom: 50px; left: 50px; width: 200px; height: 110px;\n",
        "     background-color: white; border:2px solid grey; z-index:9999; font-size:14px;\">\n",
        "     &nbsp;<b>Legenda Kerawanan Banjir</b><br>\n",
        "     &nbsp;<i style=\"background:green; width:10px; height:10px; display:inline-block;\"></i>&nbsp; Aman<br>\n",
        "     &nbsp;<i style=\"background:orange; width:10px; height:10px; display:inline-block;\"></i>&nbsp; Sedang<br>\n",
        "     &nbsp;<i style=\"background:red; width:10px; height:10px; display:inline-block;\"></i>&nbsp; Tinggi\n",
        "</div>\n",
        "'''\n",
        "m.get_root().html.add_child(folium.Element(legend_html))"
      ],
      "metadata": {
        "colab": {
          "base_uri": "https://localhost:8080/"
        },
        "id": "P9WhUVvkF9AB",
        "outputId": "0c7ea2ff-bf41-4397-ece8-6ea80cdb16c6"
      },
      "execution_count": 9,
      "outputs": [
        {
          "output_type": "execute_result",
          "data": {
            "text/plain": [
              "<branca.element.Element at 0x7cdf19940650>"
            ]
          },
          "metadata": {},
          "execution_count": 9
        }
      ]
    },
    {
      "cell_type": "code",
      "source": [
        "# 10. Simpan Peta\n",
        "m.save(\"peta_prediksi_banjir_lampung_point.html\")\n",
        "print(\"✅ Peta interaktif disimpan sebagai 'peta_prediksi_banjir_lampung_point.html'\")"
      ],
      "metadata": {
        "colab": {
          "base_uri": "https://localhost:8080/"
        },
        "id": "NDU6UYZTGDLo",
        "outputId": "868f8999-2e56-4602-8f47-b2da55dc580e"
      },
      "execution_count": 10,
      "outputs": [
        {
          "output_type": "stream",
          "name": "stdout",
          "text": [
            "✅ Peta interaktif disimpan sebagai 'peta_prediksi_banjir_lampung_point.html'\n"
          ]
        }
      ]
    }
  ]
}